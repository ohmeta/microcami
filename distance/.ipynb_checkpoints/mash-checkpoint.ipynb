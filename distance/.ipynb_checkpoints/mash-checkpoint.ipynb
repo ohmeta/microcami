{
 "cells": [
  {
   "cell_type": "code",
   "execution_count": 1,
   "metadata": {},
   "outputs": [
    {
     "name": "stdout",
     "output_type": "stream",
     "text": [
      "/ldfssz1/ST_META/share/User/zhujie/toolkit/microcami/distance\n"
     ]
    }
   ],
   "source": [
    "!pwd"
   ]
  },
  {
   "cell_type": "code",
   "execution_count": 5,
   "metadata": {},
   "outputs": [
    {
     "name": "stdout",
     "output_type": "stream",
     "text": [
      "total 14636\n",
      "-rw-r--r-- 1 zhujie ST_META 4706047 Sep 12 02:08 genome1.fna\n",
      "-rw-r--r-- 1 zhujie ST_META 5577087 Sep 12 02:08 genome2.fna\n",
      "-rw-r--r-- 1 zhujie ST_META 4697705 Sep 12 02:08 genome3.fna\n",
      "-rw-r--r-- 1 zhujie ST_META     730 Dec  4 15:04 mash.ipynb\n"
     ]
    }
   ],
   "source": [
    "!ls -l"
   ]
  },
  {
   "cell_type": "markdown",
   "metadata": {},
   "source": [
    "# Simple distance estimation"
   ]
  },
  {
   "cell_type": "code",
   "execution_count": 6,
   "metadata": {},
   "outputs": [
    {
     "name": "stdout",
     "output_type": "stream",
     "text": [
      "Sketching genome1.fna (provide sketch file made with \"mash sketch\" to skip)...done.\n",
      "genome1.fna\tgenome2.fna\t0.0222766\t0\t456/1000\n"
     ]
    }
   ],
   "source": [
    "!mash dist genome1.fna genome2.fna"
   ]
  },
  {
   "cell_type": "code",
   "execution_count": 7,
   "metadata": {},
   "outputs": [
    {
     "name": "stdout",
     "output_type": "stream",
     "text": [
      "Sketching genome1.fna (provide sketch file made with \"mash sketch\" to skip)...done.\n",
      "genome1.fna\tgenome2.fna\t0.0222766\t0\t456/1000\n"
     ]
    }
   ],
   "source": [
    "!mash dist genome1.fna genome2.fna"
   ]
  },
  {
   "cell_type": "code",
   "execution_count": 8,
   "metadata": {},
   "outputs": [
    {
     "name": "stdout",
     "output_type": "stream",
     "text": [
      "Sketching genome1.fna (provide sketch file made with \"mash sketch\" to skip)...done.\n",
      "genome1.fna\tgenome2.fna\t0.0222766\t0\t456/1000\n"
     ]
    }
   ],
   "source": [
    "!mash dist genome1.fna genome2.fna"
   ]
  },
  {
   "cell_type": "markdown",
   "metadata": {},
   "source": [
    "# Saving time by sketching first"
   ]
  },
  {
   "cell_type": "code",
   "execution_count": 9,
   "metadata": {},
   "outputs": [
    {
     "name": "stdout",
     "output_type": "stream",
     "text": [
      "Sketching genome1.fna...\n",
      "Writing to genome1.fna.msh...\n"
     ]
    }
   ],
   "source": [
    "!mash sketch genome1.fna"
   ]
  },
  {
   "cell_type": "code",
   "execution_count": 10,
   "metadata": {},
   "outputs": [
    {
     "name": "stdout",
     "output_type": "stream",
     "text": [
      "Sketching genome2.fna...\n",
      "Writing to genome2.fna.msh...\n"
     ]
    }
   ],
   "source": [
    "!mash sketch genome2.fna"
   ]
  },
  {
   "cell_type": "code",
   "execution_count": 11,
   "metadata": {},
   "outputs": [
    {
     "name": "stdout",
     "output_type": "stream",
     "text": [
      "total 14637\n",
      "-rw-r--r-- 1 zhujie ST_META 4706047 Sep 12 02:08 genome1.fna\n",
      "-rw-r--r-- 1 zhujie ST_META    8304 Dec  4 15:43 genome1.fna.msh\n",
      "-rw-r--r-- 1 zhujie ST_META 5577087 Sep 12 02:08 genome2.fna\n",
      "-rw-r--r-- 1 zhujie ST_META    8304 Dec  4 15:43 genome2.fna.msh\n",
      "-rw-r--r-- 1 zhujie ST_META 4697705 Sep 12 02:08 genome3.fna\n",
      "-rw-r--r-- 1 zhujie ST_META     730 Dec  4 15:04 mash.ipynb\n"
     ]
    }
   ],
   "source": [
    "!ls -l"
   ]
  },
  {
   "cell_type": "code",
   "execution_count": 12,
   "metadata": {},
   "outputs": [
    {
     "name": "stdout",
     "output_type": "stream",
     "text": [
      "genome1.fna\tgenome2.fna\t0.0222766\t0\t456/1000\n"
     ]
    }
   ],
   "source": [
    "!mash dist genome1.fna.msh genome2.fna.msh"
   ]
  },
  {
   "cell_type": "markdown",
   "metadata": {},
   "source": [
    "# Pairwise comparisons with compound sketch files"
   ]
  },
  {
   "cell_type": "code",
   "execution_count": 13,
   "metadata": {},
   "outputs": [
    {
     "name": "stdout",
     "output_type": "stream",
     "text": [
      "Sketching genome1.fna...\n",
      "Sketching genome2.fna...\n",
      "Writing to reference.msh...\n"
     ]
    }
   ],
   "source": [
    "!mash sketch -o reference genome1.fna genome2.fna"
   ]
  },
  {
   "cell_type": "code",
   "execution_count": 14,
   "metadata": {},
   "outputs": [
    {
     "name": "stdout",
     "output_type": "stream",
     "text": [
      "Header:\n",
      "  Hash function (seed):          MurmurHash3_x64_128 (42)\n",
      "  K-mer size:                    21 (64-bit hashes)\n",
      "  Alphabet:                      ACGT (canonical)\n",
      "  Target min-hashes per sketch:  1000\n",
      "  Sketches:                      2\n",
      "\n",
      "Sketches:\n",
      "  [Hashes]  [Length]  [ID]         [Comment]\n",
      "\n",
      "  1000      4639675   genome1.fna  gi|49175990|ref|NC_000913.2| Escherichia coli\n",
      "                                   str. K-12 substr. MG1655, complete genome\n",
      "\n",
      "  1000      5498450   genome2.fna  gi|47118301|dbj|BA000007.2| Escherichia coli\n",
      "                                   O157:H7 str. Sakai DNA, complete genome\n",
      "\n"
     ]
    }
   ],
   "source": [
    "!mash info reference.msh"
   ]
  },
  {
   "cell_type": "code",
   "execution_count": 15,
   "metadata": {},
   "outputs": [
    {
     "name": "stdout",
     "output_type": "stream",
     "text": [
      "genome1.fna\tgenome3.fna\t0\t0\t1000/1000\n",
      "genome2.fna\tgenome3.fna\t0.0222766\t0\t456/1000\n"
     ]
    }
   ],
   "source": [
    "!mash dist reference.msh genome3.fna"
   ]
  },
  {
   "cell_type": "code",
   "execution_count": 16,
   "metadata": {},
   "outputs": [
    {
     "name": "stdout",
     "output_type": "stream",
     "text": [
      ">gi|49175990|ref|NC_000913.2| Escherichia coli str. K-12 substr. MG1655, complete genome\n"
     ]
    }
   ],
   "source": [
    "!head -1 genome1.fna"
   ]
  },
  {
   "cell_type": "code",
   "execution_count": 17,
   "metadata": {},
   "outputs": [
    {
     "name": "stdout",
     "output_type": "stream",
     "text": [
      ">gi|47118301|dbj|BA000007.2| Escherichia coli O157:H7 str. Sakai DNA, complete genome\n"
     ]
    }
   ],
   "source": [
    "!head -1 genome2.fna"
   ]
  },
  {
   "cell_type": "code",
   "execution_count": 18,
   "metadata": {},
   "outputs": [
    {
     "name": "stdout",
     "output_type": "stream",
     "text": [
      ">gi|682117612|gb|CP009273.1| Escherichia coli BW25113, complete genome\n"
     ]
    }
   ],
   "source": [
    "!head -1 genome3.fna"
   ]
  },
  {
   "cell_type": "markdown",
   "metadata": {},
   "source": [
    "# Querying read sets against an existing RefSeq sketch"
   ]
  },
  {
   "cell_type": "code",
   "execution_count": 32,
   "metadata": {},
   "outputs": [
    {
     "name": "stdout",
     "output_type": "stream",
     "text": [
      "total 1429124\n",
      "-rw-r--r-- 1 zhujie ST_META 754115096 Sep 12 02:12 refseq.genomes.k21s1000.msh\n",
      "-rw-r--r-- 1 zhujie ST_META 713555968 Dec  4 16:21 refseq.genomes+plasmid.k21s1000.msh\n"
     ]
    }
   ],
   "source": [
    "!ls -l /ldfssz1/ST_META/share/User/zhujie/database/mash_sketch/"
   ]
  },
  {
   "cell_type": "code",
   "execution_count": 33,
   "metadata": {},
   "outputs": [
    {
     "name": "stdout",
     "output_type": "stream",
     "text": [
      "\n",
      "Version: 2.1\n",
      "\n",
      "Usage:\n",
      "\n",
      "  mash sketch [options] <input> [<input>] ...\n",
      "\n",
      "Description:\n",
      "\n",
      "  Create a sketch file, which is a reduced representation of a sequence or set\n",
      "  of sequences (based on min-hashes) that can be used for fast distance\n",
      "  estimations. Inputs can be fasta or fastq files (gzipped or not), and \"-\" can\n",
      "  be given to read from standard input. Input files can also be files of file\n",
      "  names (see -l). For output, one sketch file will be generated, but it can have\n",
      "  multiple sketches within it, divided by sequences or files (see -i). By\n",
      "  default, the output file name will be the first input file with a '.msh'\n",
      "  extension, or 'stdin.msh' if standard input is used (see -o).\n",
      "\n",
      "Options:\n",
      "\n",
      "  Option     Description (range) [default]\n",
      "\n",
      "  -h         Help\n",
      "\n",
      "  -p <int>   Parallelism. This many threads will be spawned for processing. [1]\n",
      "\n",
      "...Input...\n",
      "\n",
      "  -l         List input. Lines in each <input> specify paths to sequence files,\n",
      "             one per line.\n",
      "\n",
      "...Output...\n",
      "\n",
      "  -o <path>  Output prefix (first input file used if unspecified). The suffix\n",
      "             '.msh' will be appended.\n",
      "\n",
      "...Sketching...\n",
      "\n",
      "  -I <path>  ID field for sketch of reads (instead of first sequence ID).\n",
      "\n",
      "  -C <path>  Comment for a sketch of reads (instead of first sequence comment.\n",
      "\n",
      "  -k <int>   K-mer size. Hashes will be based on strings of this many\n",
      "             nucleotides. Canonical nucleotides are used by default (see\n",
      "             Alphabet options below). (1-32) [21]\n",
      "\n",
      "  -s <int>   Sketch size. Each sketch will have at most this many non-redundant\n",
      "             min-hashes. [1000]\n",
      "\n",
      "  -i         Sketch individual sequences, rather than whole files, e.g. for\n",
      "             multi-fastas of single-chromosome genomes or pair-wise gene\n",
      "             comparisons.\n",
      "\n",
      "  -S <int>   Seed to provide to the hash function. (0-4294967296) [42]\n",
      "\n",
      "  -w <num>   Probability threshold for warning about low k-mer size. (0-1)\n",
      "             [0.01]\n",
      "\n",
      "  -r         Input is a read set. See Reads options below. Incompatible with -i.\n",
      "\n",
      "...Sketching (reads)...\n",
      "\n",
      "  -b <size>  Use a Bloom filter of this size (raw bytes or with K/M/G/T) to\n",
      "             filter out unique k-mers. This is useful if exact filtering with -m\n",
      "             uses too much memory. However, some unique k-mers may pass\n",
      "             erroneously, and copies cannot be counted beyond 2. Implies -r.\n",
      "\n",
      "  -m <int>   Minimum copies of each k-mer required to pass noise filter for\n",
      "             reads. Implies -r. [1]\n",
      "\n",
      "  -c <num>   Target coverage. Sketching will conclude if this coverage is\n",
      "             reached before the end of the input file (estimated by average\n",
      "             k-mer multiplicity). Implies -r.\n",
      "\n",
      "  -g <size>  Genome size (raw bases or with K/M/G/T). If specified, will be used\n",
      "             for p-value calculation instead of an estimated size from k-mer\n",
      "             content. Implies -r.\n",
      "\n",
      "...Sketching (alphabet)...\n",
      "\n",
      "  -n         Preserve strand (by default, strand is ignored by using canonical\n",
      "             DNA k-mers, which are alphabetical minima of forward-reverse\n",
      "             pairs). Implied if an alphabet is specified with -a or -z.\n",
      "\n",
      "  -a         Use amino acid alphabet (A-Z, except BJOUXZ). Implies -n, -k 9.\n",
      "\n",
      "  -z <text>  Alphabet to base hashes on (case ignored by default; see -Z).\n",
      "             K-mers with other characters will be ignored. Implies -n.\n",
      "\n",
      "  -Z         Preserve case in k-mers and alphabet (case is ignored by default).\n",
      "             Sequence letters whose case is not in the current alphabet will be\n",
      "             skipped when sketching.\n",
      "\n"
     ]
    }
   ],
   "source": [
    "!mash sketch"
   ]
  }
 ],
 "metadata": {
  "kernelspec": {
   "display_name": "Python 3",
   "language": "python",
   "name": "python3"
  },
  "language_info": {
   "codemirror_mode": {
    "name": "ipython",
    "version": 3
   },
   "file_extension": ".py",
   "mimetype": "text/x-python",
   "name": "python",
   "nbconvert_exporter": "python",
   "pygments_lexer": "ipython3",
   "version": "3.6.6"
  }
 },
 "nbformat": 4,
 "nbformat_minor": 2
}
